{
 "cells": [
  {
   "cell_type": "markdown",
   "metadata": {},
   "source": [
    "<table>   <tr>\n",
    "    <td>Sciences Numériques et Technologie </td>\n",
    "    <td><img src=\"images/logo.jpg\"      alt=\"St Joseph-La Salle LORIENT\" width=\"50\"      height=\"48\"></td>\n",
    "  </tr>   </table>"
   ]
  },
  {
   "cell_type": "markdown",
   "metadata": {},
   "source": [
    "#### Exercice   - Le juste prix\n",
    "* Compléter le programme ci-dessous afin de :\n",
    "    * génèrer un nombre aléatoire entre 1 et 500 ( le juste prix)\n",
    "    * demander à l'utilisateur d'entrer un nombre entre 1 et 500\n",
    "    * comparer ce prix au nombre aléatoire\n",
    "    * tant que le juste prix n'est pas trouvé \n",
    "        * indiquer (affiche) si le prix est trop élevé, trop faible \n",
    "        * demander  à l'utilisateur d'entrer un nombre entre 1 et 500\n",
    "    * fin tant que \n",
    "    * indiquer (affiche) que le juste prix est trouvé\n",
    "    * afficher le nombre d'essais\n",
    "    "
   ]
  },
  {
   "cell_type": "code",
   "execution_count": null,
   "metadata": {},
   "outputs": [],
   "source": [
    "# completer  ici le code de l'exercice du juste prix \n",
    "from random import randint # on import la fonction randint (random integer)\n",
    "\n",
    "aleatoire = randint(1,500) # on stocke dans aleaotoire un nombre entier aléatoire entre 1 et 500\n",
    "print(aleatoire)"
   ]
  },
  {
   "cell_type": "markdown",
   "metadata": {},
   "source": [
    "#### Exercice  - Département de médecine : contrôle d'une épidémie\n",
    "\n",
    "\n",
    "Afin de pouvoir mieux combattre les différentes épidémies, parfois très graves, qui se développent régulièrement dans la région, le département de médecine de l'université a lancé une grande étude. En particulier, les chercheurs s'intéressent à la vitesse de propagation d'une épidémie et donc à la vitesse à laquelle des mesures sanitaires doivent êtres mises en place.\n",
    "\n",
    "<u>Ce que doit faire votre programme :</u>\n",
    "\n",
    "Votre programme doit d'abord lire un entier, la population totale de la ville. Sachant qu'une personne était malade au jour 1 et que chaque malade contamine deux nouvelles personnes le jour suivant (et chacun des jours qui suivent), vous devez calculer à partir de quel jour toute la population de la ville sera malade.\n",
    "\n",
    "<u>Exemples</u>\n",
    "* Exemple 1\n",
    "    * entrée : 3\n",
    "    * sortie : 2\n",
    "\n",
    "* Exemple 2\n",
    "\n",
    "   * entrée :10\n",
    "   * sortie :4\n",
    "\n",
    "<u>Commentaires </u>\n",
    "\n",
    "On a 1 malade le premier jour, donc 2 nouveaux malades le second jour, soit un total de 3 malades. On a donc 6 nouveaux malades au troisième jour, soit un total de 9 malades. On a donc 18 nouveaux malades au quatrième jour, soit…\n",
    "\n"
   ]
  },
  {
   "cell_type": "code",
   "execution_count": null,
   "metadata": {},
   "outputs": [],
   "source": [
    "# completer  ici le code de l'exercice contrôle d'une épidémie\n"
   ]
  },
  {
   "cell_type": "markdown",
   "metadata": {},
   "source": [
    "#### Exercice  - Jeu de dames\n",
    " Un des jeux les plus populaires sur Algoréa est une variante du jeu de dames que vous connaissez bien. Le jeu utilise un plateau similaire à un damier, mais de taille 40 par 40. Les villageois vous proposent de jouer contre eux, mais malheureusement ils n'arrivent pas à retrouver leur plateau de jeu. Plutôt que de passer des heures à le chercher, vous leur proposez de leur en imprimer un nouveau.\n",
    "Ce que doit faire votre programme :\n",
    "\n",
    "Un damier de dimension 4×4 peut se représenter sous la forme suivante : \n",
    "<code>\n",
    "OXOX\n",
    "XOXO\n",
    "OXOX\n",
    "XOXO\n",
    "</code>\n",
    "Votre programme doit afficher un damier de taille 40×40. Assurez-vous bien que la case tout en haut à gauche contienne un « O », comme c'est le cas dans le damier ci-dessus. "
   ]
  },
  {
   "cell_type": "markdown",
   "metadata": {},
   "source": [
    "<u>Conseils: les  Répétitions imbriquées</u>\n",
    "\n",
    "Imaginons qu'on souhaite écrire un programme dessinant un rectangle rempli de X, haut de 5 lignes et large de 10 colonnes, c'est-à-dire :\n",
    "<code>\n",
    "XXXXXXXXXX\n",
    "XXXXXXXXXX\n",
    "XXXXXXXXXX\n",
    "XXXXXXXXXX\n",
    "XXXXXXXXXX\n",
    "    </code>\n",
    "\n",
    "On se dit d'abord que l'on va utiliser une boucle pour afficher chacune des cinq lignes du programme, ce qui donnerait une structure comme ci-dessous.\n",
    "<code>\n",
    "    Répéter 5 fois\n",
    "       Afficher une ligne de 10 \"X\"</code>\n",
    "   \n",
    "\n",
    "À présent, comment afficher une ligne de 10 « X » ? Avec une boucle bien sûr :\n",
    "<code>\n",
    "    Répéter 10 fois\n",
    "          Afficher \"X\" (sans retour à la ligne)\n",
    "    Aller à la ligne</code>\n",
    "\n",
    "Ce bout d'algorithme affiche 10 lettres « X » collées, puis revient à la ligne.\n",
    "\n",
    "Au final, pour dessiner notre rectangle, il nous faut une boucle dans une boucle ! Car on veut :\n",
    "<code>\n",
    "    Répéter 5 fois\n",
    "       Répéter 10 fois\n",
    "          Afficher \"X\" (sans retour à la ligne)\n",
    "       Aller à la ligne\n",
    "    </code>\n",
    "\n",
    "Ainsi, on répète 5 fois les instructions permettant d'afficher une ligne, ce qui permet d'obtenir 5 lignes.\n",
    "\n",
    "On arrive donc au programme Python suivant :\n"
   ]
  },
  {
   "cell_type": "code",
   "execution_count": 5,
   "metadata": {},
   "outputs": [
    {
     "name": "stdout",
     "output_type": "stream",
     "text": [
      "XXXXXXXXXX\n",
      "XXXXXXXXXX\n",
      "XXXXXXXXXX\n",
      "XXXXXXXXXX\n",
      "XXXXXXXXXX\n"
     ]
    }
   ],
   "source": [
    " for l in range(5):\n",
    "    for c in range(10):\n",
    "        print(\"X\", end = \"\")\n",
    "    print()"
   ]
  },
  {
   "cell_type": "markdown",
   "metadata": {},
   "source": [
    "Lorsqu'une boucle apparaît à l'intérieur d'une autre boucle comme c'est le cas ici, on parle de **boucle imbriquée**. "
   ]
  },
  {
   "cell_type": "code",
   "execution_count": 2,
   "metadata": {},
   "outputs": [],
   "source": [
    "# completer  ici le code de l'exercice jeu de dames"
   ]
  }
 ],
 "metadata": {
  "kernelspec": {
   "display_name": "Python 3",
   "language": "python",
   "name": "python3"
  },
  "language_info": {
   "codemirror_mode": {
    "name": "ipython",
    "version": 3
   },
   "file_extension": ".py",
   "mimetype": "text/x-python",
   "name": "python",
   "nbconvert_exporter": "python",
   "pygments_lexer": "ipython3",
   "version": "3.7.3"
  }
 },
 "nbformat": 4,
 "nbformat_minor": 2
}
