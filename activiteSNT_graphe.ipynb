{
 "cells": [
  {
   "cell_type": "markdown",
   "metadata": {},
   "source": [
    "<table>   <tr>\n",
    "    <td>Sciences Numériques et Technologie </td>\n",
    "    <td><img src=\"images/logo.jpg\"      alt=\"St Joseph-La Salle LORIENT\" width=\"50\"      height=\"48\"></td>\n",
    "  </tr>   </table>\n",
    "  \n",
    "# Modélisation d'un réseau social avec Python et calcul du diamètre, de la liste des centres et du rayon d'un graphe."
   ]
  },
  {
   "cell_type": "markdown",
   "metadata": {},
   "source": [
    "##  <span style='color:orange'>Utilisation d'un Notebook Jupyter </span>\n",
    "\n",
    "### Notebook Jupyter c'est quoi?\n",
    "\n",
    "Les notebooks Jupyter sont des documents composites où l'on peut écrire du texte et, et c'est bien là son intérêt, lancer des lignes de code voire un programme entier. C'est un outil pédagogique très intéressant pour tester, en direct, des lignes de code, les modifier....\n",
    "\n",
    "Jupyter (anciennement IPython) est un projet open source qui permet de combiner facilement du texte Markdown, du code exécutable (Python, R et F#), des données persistantes, des graphiques et des visualisations dans un canevas partageable appelé `notebook`.\n",
    "### Comment ça marche ?\n",
    "\n",
    "A chaque fois que l'on retrouve, en début de ligne, <code><font color=blue>Entree [xx] :</font></code>il s'agit d'une cellule avec laquelle on peut interagir et entrer des commandes, ici en Python.\n",
    "Par exemple, dans la ligne suivante, écrire <code>x <font color=#aa22ff>=</font> <font color=green>10</font></code>"
   ]
  },
  {
   "cell_type": "code",
   "execution_count": null,
   "metadata": {},
   "outputs": [],
   "source": [
    "x=7\n",
    "print(x)"
   ]
  },
  {
   "cell_type": "markdown",
   "metadata": {},
   "source": [
    "\n",
    "Il suffit maintenant de cliquer sur <img src =\"images/executer.PNG\" width=\"80px\" height=\"20px\" alt=\"Executer\"> ou *ctrl+Entrée.<br/>*\n",
    "La ligne est alors interprétée par Python et la valeur 10 est affectée à la variable x.\n",
    "\n",
    "On peut alors, par exemple, afficher la valeur de x en appelant la méthode <code><font color=green>print(<font color=black>x</font>)</font></code>"
   ]
  },
  {
   "cell_type": "code",
   "execution_count": null,
   "metadata": {},
   "outputs": [],
   "source": []
  },
  {
   "cell_type": "markdown",
   "metadata": {},
   "source": [
    "S'affiche alors la valeur (10) de la variable x.\n",
    "\n",
    "On peut modifier les cellules et les executer autant de fois qu'on le souhaite.<br/>\n",
    "Par exemple, appeler <code><font color=green>print(<font color=black>x</font><font color=#aa22ff>**+**</font><font color=green>10)</font></code>"
   ]
  },
  {
   "cell_type": "markdown",
   "metadata": {},
   "source": [
    "##   <span style='color:orange'>Création d'un graphe pour représenter le réseau social </span>\n",
    "<img src=\"images/activite4.PNG\"      alt=\"activité 4\">\n",
    "<center>le reseau social de l'activité 4</center>\n",
    "\n",
    "Un <b>graphe</b> est un ensemble de <b>nœuds</b> (individus, sommets) reliés entre eux par des <b>liens (arêtes)</b>.\n",
    "\n",
    "Un nœud représente une entité sociale (Homme, animaux, machine, cellule, etc.)\n",
    "\n",
    "Un lien représente une interaction sociale (amitié, intérêt commun, relation intimé, professionnelles, etc.)\n",
    "\n",
    "Individus = points (sommets)\n",
    "\n",
    "Relations = flèches (arcs) ou ligne (arêtes) selon que le graphe est orienté ou non.\n",
    "\n",
    "Ajouter les noeuds manquants dans le script suivant afin de modéliser le réseau social de l'activité 4. Pour alléger l'écriture, nous utiliserons la permeière lettre du prénom : 'A' pour Alice, 'B' pour Bob, ...\n",
    "\n",
    "\n"
   ]
  },
  {
   "cell_type": "code",
   "execution_count": 15,
   "metadata": {},
   "outputs": [],
   "source": [
    "#-------------------------------------------------------------------------------\n",
    "# Application permet de tracer un graphe pour simuler un réseau social\n",
    "# On ajoute des sommets\n",
    "# On dessine les arêtes entre les sommets voulus\n",
    "#-------------------------------------------------------------------------------\n",
    "\n",
    "from networkx import nx,diameter,radius,center\n",
    "import matplotlib.pyplot as plt\n",
    "\n",
    "\n",
    "reseau_social=nx.Graph()\n",
    "#ajout des amis dans le reseau_social\n",
    "reseau_social.add_node('A')\n",
    "reseau_social.add_node('B')\n",
    "reseau_social.add_node('C')\n",
    "#Compléter les noeuds ICI\n",
    "\n",
    "#permet de visualiser le graphe\n",
    "nx.draw(reseau_social, with_labels=True)\n",
    "plt.draw()\n",
    "plt.show()\n"
   ]
  },
  {
   "cell_type": "markdown",
   "metadata": {},
   "source": [
    "##  <span style='color:orange'>Les liens entre les personnes </span>\n",
    "une <b>arête</b> représente un trait entre deux noeuds. Elle représente une relation non orientée entre deux personnes. \n",
    "\n",
    "Ajouter les arêtes qui manquent pour représenter le graphe de l'activité 4, puis executer le sript"
   ]
  },
  {
   "cell_type": "code",
   "execution_count": null,
   "metadata": {},
   "outputs": [],
   "source": [
    "# les arêtes\n",
    "reseau_social.add_edge('A','B')\n",
    "reseau_social.add_edge('A','C')\n",
    "reseau_social.add_edge('A','H')\n",
    "\n",
    "reseau_social.add_edge('B','C')\n",
    "reseau_social.add_edge('B','F')\n",
    "\n",
    "\n",
    "#Ajouter les arêtes ICI\n",
    "\n",
    "#permet de visualiser le graphe\n",
    "nx.draw(reseau_social, with_labels=True)\n",
    "plt.draw()\n",
    "plt.show()\n",
    "\n",
    "\n"
   ]
  },
  {
   "cell_type": "markdown",
   "metadata": {},
   "source": [
    "##  <span style='color:orange'>Les paramètres de ce graphe (réseau social)</span>\n",
    "<b>Une Chaîne</b> = est une suite quelconque de sommets adjacents (reliés par des arêtes). C’est une liste d’individus qui peuvent être en relation.\n",
    "\n",
    "<b>La Longueur</b> (d’une chaîne) c'est le nombre d’arêtes qu’elle comporte.  C’est le nombre d’individus qui peuvent être en relation.\n",
    "\n",
    "<b>La Distance </b> (entre deux sommets) est la longueur de la plus courte chaîne qui relie ces deux sommets. Cela correspond au nombre le plus petit d’individus à mettre en relation pour que deux personnes puissent échanger dans un réseau social.\n",
    "\n",
    "\n",
    "\n",
    "### Le Diamètre \n",
    "Le <b>diamètre</b> d'un graphe est égale à la longueur de la plus petite chaîne qui les relie. Si la distance est de 2, cela indique que dans ce réseau social, pour que deux personnes puissent créer un lien, il faudra 2 liens intermédiaires au maximum, c’est-à-dire une personne intermédiaire au maximum.\n",
    "\n",
    "\n",
    "### Le Rayon \n",
    "Le <b>rayon </b>est la plus petite distance à laquelle puisse se trouver un sommet (centre) de tous les autres sommets du graphe.\n",
    "\n",
    "\n",
    "\n",
    "### Le Centre\n",
    "Le <b>centre</b> du graphe est l'ensemble des sommets qui sont à une distance maximale (= rayon) de tous les autres sommets au maximum. Le centre d’un réseau social est donc un groupe d’individus qui auront besoin d’un minimum de contacts pour pouvoir contacter tous les individus de son réseau.\n",
    "\n",
    "Pour afficher les paramètres de ce réseau social,  executer le script suivant...\n",
    "\n"
   ]
  },
  {
   "cell_type": "code",
   "execution_count": null,
   "metadata": {},
   "outputs": [],
   "source": [
    "print(\"nombre de sommets=\",reseau_social.number_of_nodes())\n",
    "print(\"nombre d'arêtes=\",reseau_social.number_of_edges())\n",
    "print(\"Diamètre=\",diameter(reseau_social))\n",
    "print(\"Rayon=\",radius(reseau_social))\n",
    "print(\"Centre=\",center(reseau_social))"
   ]
  },
  {
   "cell_type": "markdown",
   "metadata": {},
   "source": [
    "##  <span style='color:orange'>Qui a le plus d'amis en commun?</span>"
   ]
  },
  {
   "cell_type": "code",
   "execution_count": null,
   "metadata": {},
   "outputs": [],
   "source": [
    "\n",
    "noms = ['A','B','C','D','E','F','G','H','I','J']\n",
    "for i in noms:\n",
    "    for j in noms:\n",
    "        if i != j :\n",
    "            print(i,j,\" ont pour amis communs : \",sorted(nx.common_neighbors(reseau_social,i,j)))\n",
    "\n"
   ]
  },
  {
   "cell_type": "markdown",
   "metadata": {},
   "source": [
    "Pour le savoir, executer le script précédent..."
   ]
  }
 ],
 "metadata": {
  "kernelspec": {
   "display_name": "Python 3",
   "language": "python",
   "name": "python3"
  },
  "language_info": {
   "codemirror_mode": {
    "name": "ipython",
    "version": 3
   },
   "file_extension": ".py",
   "mimetype": "text/x-python",
   "name": "python",
   "nbconvert_exporter": "python",
   "pygments_lexer": "ipython3",
   "version": "3.7.3"
  }
 },
 "nbformat": 4,
 "nbformat_minor": 2
}
