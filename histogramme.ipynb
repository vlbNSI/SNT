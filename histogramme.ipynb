{
 "cells": [
  {
   "cell_type": "markdown",
   "metadata": {},
   "source": [
    "<table>   <tr>\n",
    "    <td>Sciences Numériques et Technologique </td>\n",
    "    <td><img src=\"images/logo.jpg\"      alt=\"St Joseph-La Salle LORIENT\" width=\"50\"      height=\"48\"></td>\n",
    "  </tr>   </table>\n",
    "  \n",
    "# Les données structurées : réalisation d'un histogramme en python (suite de l'activité 3 page 92)\n",
    "\n",
    " "
   ]
  },
  {
   "cell_type": "markdown",
   "metadata": {},
   "source": [
    "##  <span style='color:orange'>Les stockage des informations ( les données) </span>\n"
   ]
  },
  {
   "cell_type": "code",
   "execution_count": 3,
   "metadata": {},
   "outputs": [
    {
     "name": "stdout",
     "output_type": "stream",
     "text": [
      "il y a  123 valeurs\n"
     ]
    }
   ],
   "source": [
    "AGE = [54, 40, 63, 46, 31, 34, 58,\n",
    "       33, 40, 52, 37, 20, 44, 28,\n",
    "       30, 33, 43, 47, 63, 20, 41, \n",
    "       27, 63, 30, 63, 47, 49, 37,\n",
    "       31, 24, 50, 59, 42, 24, 25,\n",
    "       27, 27, 29, 44, 47, 20, 34,\n",
    "       58, 20, 31, 36, 52, 38, 24,\n",
    "       22, 29, 51, 41, 21, 62, 27,\n",
    "       59, 53, 61, 21, 19, 47, 33,\n",
    "       56, 44, 35, 65, 36, 36, 20,\n",
    "       25, 65, 45, 60, 61, 34, 40,\n",
    "       24, 36, 65, 45, 60, 63, 20,\n",
    "       57, 61, 54, 42, 57, 19, 58,\n",
    "       25, 26, 42, 23, 62, 18, 55,\n",
    "       37, 31, 19, 42, 60, 39, 59, \n",
    "       59, 50, 55, 46, 40, 39, 54,\n",
    "       39, 58, 31, 61, 53, 61, 33,\n",
    "       50, 52, 58, 22]\n",
    "nbValeurs = len(AGE) \n",
    "print(\"il y a \",nbValeurs, \"valeurs\")"
   ]
  },
  {
   "cell_type": "markdown",
   "metadata": {},
   "source": [
    "##  <span style='color:orange'> afficher les 3 premières valeurs </span>"
   ]
  },
  {
   "cell_type": "code",
   "execution_count": 4,
   "metadata": {},
   "outputs": [
    {
     "name": "stdout",
     "output_type": "stream",
     "text": [
      "AGE[ 0 ] =  54\n",
      "AGE[ 1 ] =  40\n",
      "AGE[ 2 ] =  63\n"
     ]
    }
   ],
   "source": [
    "for i in range(3):\n",
    "    print(\"AGE[\",i,\"] = \",AGE[i])"
   ]
  },
  {
   "cell_type": "markdown",
   "metadata": {},
   "source": [
    "Compléter le script suivant afin d'afficher les <b>20 premères valeurs </b>"
   ]
  },
  {
   "cell_type": "code",
   "execution_count": null,
   "metadata": {},
   "outputs": [],
   "source": [
    "for i in range(    ):\n",
    "    print(\"AGE[\",i,\"] = \",AGE[i])"
   ]
  },
  {
   "cell_type": "markdown",
   "metadata": {},
   "source": [
    "Compléter le script suivant afin d'afficher les <b> 20 dernières valeurs </b>"
   ]
  },
  {
   "cell_type": "code",
   "execution_count": null,
   "metadata": {},
   "outputs": [],
   "source": [
    "for i in range(     ):\n",
    "    print(\"AGE[\",i,\"] = \",AGE[i])"
   ]
  },
  {
   "cell_type": "markdown",
   "metadata": {},
   "source": [
    "##  <span style='color:orange'> Le tableau pour le comptage des tranches d'âge </span>\n"
   ]
  },
  {
   "cell_type": "code",
   "execution_count": 46,
   "metadata": {},
   "outputs": [
    {
     "name": "stdout",
     "output_type": "stream",
     "text": [
      "[0, 0, 0, 0, 0, 0, 0, 0, 0, 0]\n"
     ]
    }
   ],
   "source": [
    "Valeurs_trancheAge = [0]*10    # 10 cases initialisées avec la valeur zéro\n",
    "print(Valeurs_trancheAge)"
   ]
  },
  {
   "cell_type": "markdown",
   "metadata": {},
   "source": [
    "##  <span style='color:orange'>Le calcul de l'histogramme</span>\n",
    "Reprendre le travail de l'activité 3 et completer le script suivant afin de calculer l'histogramme"
   ]
  },
  {
   "cell_type": "code",
   "execution_count": 53,
   "metadata": {},
   "outputs": [
    {
     "name": "stdout",
     "output_type": "stream",
     "text": [
      "[0, 4, 0, 26, 0, 0, 0, 0, 0, 0]\n"
     ]
    }
   ],
   "source": [
    "for i in range (nbValeurs):\n",
    "    if AGE[i] >=0 and AGE[i]<10 : \n",
    "        Valeurs_trancheAge[0] = Valeurs_trancheAge[0]+1\n",
    "    if AGE[i] >=30 and AGE[i]<40 : \n",
    "        Valeurs_trancheAge[3] = Valeurs_trancheAge[3]+1\n",
    "    # à compléter     \n",
    "print(Valeurs_trancheAge)       "
   ]
  },
  {
   "cell_type": "markdown",
   "metadata": {},
   "source": [
    "##  <span style='color:orange'>Affichage de l'histogramme en nuages de points ( Version 1) <span>"
   ]
  },
  {
   "cell_type": "code",
   "execution_count": 54,
   "metadata": {},
   "outputs": [
    {
     "data": {
      "image/png": "[encoded data removed]",
      "text/plain": [
       "<Figure size 432x288 with 1 Axes>"
      ]
     },
     "metadata": {
      "needs_background": "light"
     },
     "output_type": "display_data"
    }
   ],
   "source": [
    "import matplotlib.pyplot as plt\n",
    "tranche =  [i*10 for i in range(10)]\n",
    "plt.bar(tranche,Valeurs_trancheAge)\n",
    "\n",
    "plt.show()"
   ]
  },
  {
   "cell_type": "markdown",
   "metadata": {},
   "source": [
    "##  <span style='color:orange'>Affichage de l'histogramme ( Version 2)  <span>"
   ]
  },
  {
   "cell_type": "code",
   "execution_count": 52,
   "metadata": {
    "scrolled": true
   },
   "outputs": [
    {
     "data": {
      "text/plain": [
       "Text(0.5, 1.0, \"Histogramme de l'activité 3\")"
      ]
     },
     "execution_count": 52,
     "metadata": {},
     "output_type": "execute_result"
    },
    {
     "data": {
      "image/png": "[encoded data removed]",
      "text/plain": [
       "<Figure size 432x288 with 1 Axes>"
      ]
     },
     "metadata": {
      "needs_background": "light"
     },
     "output_type": "display_data"
    }
   ],
   "source": [
    "from  matplotlib import *\n",
    "# un histogramme sur la liste trancheAge\n",
    "# entre 0 et 100\n",
    "# avec 10 intervalles\n",
    "\n",
    "pyplot.hist(AGE, range = (0, 100), bins = 5, color = 'yellow',\n",
    "            edgecolor = 'red')\n",
    "pyplot.xlabel('ages')\n",
    "pyplot.ylabel('valeurs')\n",
    "pyplot.title(\"Histogramme de l'activité 3\")\n"
   ]
  },
  {
   "cell_type": "markdown",
   "metadata": {},
   "source": [
    "##  <span style='color:orange'>Calculer l'age moyen  <span>\n",
    "    Compléter le srcipt suivant afin de calculer la moyenne des valeurs contenues dans la liste AGE ( l'age moyen) "
   ]
  },
  {
   "cell_type": "code",
   "execution_count": null,
   "metadata": {},
   "outputs": [],
   "source": [
    "Somme = 0\n",
    "for i in range( ...):\n",
    "    somme = ......\n",
    "ageMoyen = \n",
    "print(\"l'age moyen est de \", ageMoyen)"
   ]
  },
  {
   "cell_type": "markdown",
   "metadata": {},
   "source": [
    "<center> <b>FINI </b> </center>"
   ]
  }
 ],
 "metadata": {
  "kernelspec": {
   "display_name": "Python 3",
   "language": "python",
   "name": "python3"
  },
  "language_info": {
   "codemirror_mode": {
    "name": "ipython",
    "version": 3
   },
   "file_extension": ".py",
   "mimetype": "text/x-python",
   "name": "python",
   "nbconvert_exporter": "python",
   "pygments_lexer": "ipython3",
   "version": "3.7.3"
  }
 },
 "nbformat": 4,
 "nbformat_minor": 2
}
