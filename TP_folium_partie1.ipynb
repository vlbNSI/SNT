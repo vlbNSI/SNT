{
 "cells": [
  {
   "cell_type": "markdown",
   "metadata": {},
   "source": [
    "Avant de faire ce TP, il est important de créer un dossier dans lequel vous allez sauvegarder ce notebook"
   ]
  },
  {
   "cell_type": "markdown",
   "metadata": {},
   "source": [
    "## ère Partie : Carte sur folium"
   ]
  },
  {
   "cell_type": "markdown",
   "metadata": {},
   "source": [
    "### Une carte simple"
   ]
  },
  {
   "cell_type": "markdown",
   "metadata": {},
   "source": [
    "Nous allons utiliser les cartes proposées par Open Street Map et le langage Python afin de générer des cartes personnalisées. Plus exactement, nous allons utiliser une bibliothèque Python nommée Folium. Une bibliothèque Python permet de rajouter des fonctionnalités au langage de base. Folium va donc nous permettre de créer nos propres cartes à partir des cartes proposées par Open Street Map. \n",
    "\n",
    "\n",
    "1. Exécutez le code suivant"
   ]
  },
  {
   "cell_type": "code",
   "execution_count": null,
   "metadata": {},
   "outputs": [],
   "source": [
    "import folium\n",
    "c= folium.Map(location=[46.078025, 6.409053])\n",
    "c.save('maCarte.html')"
   ]
  },
  {
   "cell_type": "markdown",
   "metadata": {},
   "source": [
    "puis regardez dans le dossier, un nouveau fichier est apparu. Qu'est-ce qui a permi de créer ce fichier ? "
   ]
  },
  {
   "cell_type": "markdown",
   "metadata": {},
   "source": []
  },
  {
   "cell_type": "markdown",
   "metadata": {},
   "source": [
    "\n",
    "2. Double-cliquez sur ce nouveau fichier. Quel est le programme qui permet de l'ouvrir et pourquoi ?  "
   ]
  },
  {
   "cell_type": "markdown",
   "metadata": {},
   "source": []
  },
  {
   "cell_type": "markdown",
   "metadata": {},
   "source": [
    "Le fichier maCarte.html fait apparaître une une véritable carte et pas une simple image (il est possible de zoomer ou de se déplacer mais pour cela il faut une connexion à internet ! ). \n",
    "\n",
    "3. Sur quelle ville est-elle centrée ? Quelles sont ses coordonnées GPS ? Comment pouvez-vous relier ces coordonnées au programme ci-dessus ? "
   ]
  },
  {
   "cell_type": "markdown",
   "metadata": {},
   "source": []
  },
  {
   "cell_type": "markdown",
   "metadata": {},
   "source": [
    "Le programme est simple à comprendre :\n",
    "\n",
    "La première ligne : \"import folium\" permet d'importer la bibliothèque folium afin de pouvoir l'utiliser.\n",
    "\n",
    "La deuxième ligne est le coeur de notre programme, nous définissons une variable \"c\" qui va contenir notre objet carte. \"folium.Map(location=[46.078025, 6.409053])\" génère cet objet carte, la carte sera centrée sur le point de latitude \"46.078025\" et de longitude \"6.409053\". Plus généralement nous avons \"folium.Map(location=[latitude, longitude])\". Il suffit donc de renseigner la bonne longitude et la bonne latitude pour que la carte soit centrée sur le point désiré.\n",
    "\n",
    "La dernière ligne permet de générer la page HTML qui va permettre d'afficher la carte.\n",
    "\n",
    "4. Quelles sont les coordonnées GPS de Lorient ? \n",
    "Créez une carte avec folium centrée sur Lorient (vous pouvez changer le nom de la carte).\n"
   ]
  },
  {
   "cell_type": "markdown",
   "metadata": {},
   "source": []
  },
  {
   "cell_type": "code",
   "execution_count": null,
   "metadata": {},
   "outputs": [],
   "source": []
  },
  {
   "cell_type": "markdown",
   "metadata": {},
   "source": [
    "5. Exécutez le programme suivant et ouvrez le fichier maCarte.html (ou alors rafraîchissez la page maCarte.hmtl dans votre nagivateur en appuyant sur F5)"
   ]
  },
  {
   "cell_type": "code",
   "execution_count": null,
   "metadata": {},
   "outputs": [],
   "source": [
    "import folium\n",
    "c= folium.Map(location=[47.7512, -3.3931],zoom_start=15)\n",
    "c.save('maCarte.html')"
   ]
  },
  {
   "cell_type": "markdown",
   "metadata": {},
   "source": [
    "6. Où se situe-t-on ? \n",
    "Que permet de faire le paramètre zoom_start ? (pour cela, changez sa valeur et réactualisez votre carte)"
   ]
  },
  {
   "cell_type": "markdown",
   "metadata": {},
   "source": []
  },
  {
   "cell_type": "markdown",
   "metadata": {},
   "source": [
    "### Amélioration de la carte : ajout d'une certaine interactivité"
   ]
  },
  {
   "cell_type": "markdown",
   "metadata": {},
   "source": [
    "7. Saisissez et testez le programme ci-dessous "
   ]
  },
  {
   "cell_type": "code",
   "execution_count": null,
   "metadata": {},
   "outputs": [],
   "source": [
    "import folium\n",
    "c= folium.Map(location=[47.7512,-3.3931],zoom_start=20)\n",
    "folium.Marker([47.751,  -3.3924]).add_to(c)\n",
    "c.save('maCarte.html')"
   ]
  },
  {
   "cell_type": "markdown",
   "metadata": {},
   "source": [
    " Nous avons uniquement ajouté la ligne \"folium.Marker...\", il faut juste renseigner les coordonnées souhaitées (ici 47... pour la latitude et -3.3.. pour la longitude)\n",
    "\n",
    "Il est possible d'ajouter plusieurs marqueurs sur une même carte, il suffira d'ajouter autant de ligne \"folium.Marker([latitude, longitude]).add_to(c)\" que de marqueurs désirés.\n",
    "\n",
    "Il est possible d'associer une information à un marqueur en ajoutant le paramètre \"popup\" : \n",
    "\n",
    "8. Saisissez et testez le programme ci-dessous "
   ]
  },
  {
   "cell_type": "code",
   "execution_count": null,
   "metadata": {},
   "outputs": [],
   "source": [
    "import folium\n",
    "c= folium.Map(location=[47.7512,-3.3931],zoom_start=20)\n",
    "folium.Marker([47.751,  -3.3924],popup=\"Vous êtes ici ! \").add_to(c)\n",
    "c.save('maCarte.html')"
   ]
  },
  {
   "cell_type": "markdown",
   "metadata": {},
   "source": [
    "Il suffit de cliquer sur le marqueur pour que l'information définie par le paramètre \"popup\" apparaisse à l'écran (ici en cliquant sur le marqueur nous verrons donc apparaitre \"Vous êtes ici ! \"). \n",
    "\n",
    "\n",
    "9. En prenant les coordonnées GPS de divers lieux, créez votre propre carte en y plaçant divers markers avec des popups permettant de renseigner vos sorties, lieux de sports, ... On pourra s'aider de sites comme https://www.gps-coordinates.net/ \n"
   ]
  },
  {
   "cell_type": "code",
   "execution_count": null,
   "metadata": {},
   "outputs": [],
   "source": []
  }
 ],
 "metadata": {
  "kernelspec": {
   "display_name": "Python 3",
   "language": "python",
   "name": "python3"
  },
  "language_info": {
   "codemirror_mode": {
    "name": "ipython",
    "version": 3
   },
   "file_extension": ".py",
   "mimetype": "text/x-python",
   "name": "python",
   "nbconvert_exporter": "python",
   "pygments_lexer": "ipython3",
   "version": "3.7.4"
  },
  "latex_envs": {
   "LaTeX_envs_menu_present": true,
   "autoclose": false,
   "autocomplete": true,
   "bibliofile": "biblio.bib",
   "cite_by": "apalike",
   "current_citInitial": 1,
   "eqLabelWithNumbers": true,
   "eqNumInitial": 1,
   "hotkeys": {
    "equation": "Ctrl-E",
    "itemize": "Ctrl-I"
   },
   "labels_anchors": false,
   "latex_user_defs": false,
   "report_style_numbering": false,
   "user_envs_cfg": false
  },
  "toc": {
   "base_numbering": 1,
   "nav_menu": {},
   "number_sections": true,
   "sideBar": true,
   "skip_h1_title": false,
   "title_cell": "Table of Contents",
   "title_sidebar": "Contents",
   "toc_cell": false,
   "toc_position": {},
   "toc_section_display": true,
   "toc_window_display": false
  }
 },
 "nbformat": 4,
 "nbformat_minor": 2
}
