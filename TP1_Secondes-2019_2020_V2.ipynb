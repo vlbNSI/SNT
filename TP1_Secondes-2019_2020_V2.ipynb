{
 "cells": [
  {
   "cell_type": "markdown",
   "metadata": {
    "slideshow": {
     "slide_type": "slide"
    }
   },
   "source": [
    "<table>   <tr>\n",
    "    <td>Sciences Numériques et Technologie </td>\n",
    "    <td><img src=\"images/logo.jpg\"      alt=\"St Joseph-La Salle LORIENT\" width=\"50\"      height=\"48\"></td>\n",
    "  </tr>   </table>\n",
    "  \n",
    "# Apprentissage de jupyter Notebook - Exercice de prise en main\n",
    "\n",
    "Cet exercice a pour objectif de vous faire rapidement explorer les **fonctionnalités de base** de l'interpréteur interactif **jupyter** en mode **Notebook** et de vous familiariser avec le langages **Python**\n",
    "\n",
    "\n",
    "-----"
   ]
  },
  {
   "cell_type": "markdown",
   "metadata": {
    "slideshow": {
     "slide_type": "slide"
    }
   },
   "source": [
    "## A/ Édition et exécution d'une cellule de code"
   ]
  },
  {
   "cell_type": "markdown",
   "metadata": {
    "slideshow": {
     "slide_type": "subslide"
    }
   },
   "source": [
    "Un notebook jupyter consiste en **cellules** individuelles permettant de tester du **code** Python.\n",
    "\n",
    "**A.1)** Une cellule notée **Entrée[ ]:** correspond à une suite d'instruction Python que l'on peut tester directement\n",
    "\n",
    "\n",
    "Pour **exécuter le code** Python d'une cellule, il faut cliquer sur le bouton <button class='fa fa-step-forward icon-step-forward'></button> ou appuyer simultanément sur les touches <code>CTRL</code> et <code>entrée</code>. Tester sur les deux cellules suivantes"
   ]
  },
  {
   "cell_type": "code",
   "execution_count": null,
   "metadata": {
    "slideshow": {
     "slide_type": "subslide"
    }
   },
   "outputs": [],
   "source": [
    "print ('Bonjour à tous')"
   ]
  },
  {
   "cell_type": "code",
   "execution_count": null,
   "metadata": {
    "slideshow": {
     "slide_type": "fragment"
    }
   },
   "outputs": [],
   "source": [
    "print (52+2)"
   ]
  },
  {
   "cell_type": "markdown",
   "metadata": {
    "slideshow": {
     "slide_type": "fragment"
    }
   },
   "source": [
    "**Noter** le retour d'exécution de ces deux cellules"
   ]
  },
  {
   "cell_type": "markdown",
   "metadata": {
    "slideshow": {
     "slide_type": "subslide"
    }
   },
   "source": [
    "**A.2)** Exécutez maintenant le code de la cellule ci-dessous."
   ]
  },
  {
   "cell_type": "code",
   "execution_count": null,
   "metadata": {
    "slideshow": {
     "slide_type": "-"
    }
   },
   "outputs": [],
   "source": [
    "a = 6   #affectation de la variables a, a contient  un entier\n",
    "b = 10  # affectation de la avriables b , b contient aussi un entier\n",
    "print('La somme de ces 2 nombres vaut :', a + b)"
   ]
  },
  {
   "cell_type": "code",
   "execution_count": null,
   "metadata": {},
   "outputs": [],
   "source": [
    "#pour visualiser le déroulement en pas à pas\n",
    "from metakernel import register_ipython_magics\n",
    "register_ipython_magics()\n"
   ]
  },
  {
   "cell_type": "code",
   "execution_count": null,
   "metadata": {},
   "outputs": [],
   "source": [
    "%%tutor\n",
    "a = 6   #affectation de la variables a, a contient  un entier\n",
    "b = 10  # affectation de la avriables b , b contient aussi un entier\n",
    "print('La somme de ces 2 nombres vaut :', a + b)"
   ]
  },
  {
   "cell_type": "code",
   "execution_count": null,
   "metadata": {},
   "outputs": [],
   "source": [
    "%%tutor\n",
    "a = 6   #affectation de la variables a, a contient  un entier\n",
    "b = 10  # affectation de la avriables b , b contient aussi un entier\n",
    "somme = a+b\n",
    "print('La somme de ces 2 nombres vaut :',somme)"
   ]
  },
  {
   "cell_type": "markdown",
   "metadata": {
    "slideshow": {
     "slide_type": "fragment"
    }
   },
   "source": [
    "**Question** : Quelle est la différence entre les deux programmes précédents"
   ]
  },
  {
   "cell_type": "markdown",
   "metadata": {
    "slideshow": {
     "slide_type": "slide"
    }
   },
   "source": [
    "## B/ Gestion des entrées / sorties"
   ]
  },
  {
   "cell_type": "markdown",
   "metadata": {
    "slideshow": {
     "slide_type": "subslide"
    }
   },
   "source": [
    "**B.1)** Affectation d'une valeur entrée au clavier."
   ]
  },
  {
   "cell_type": "markdown",
   "metadata": {
    "slideshow": {
     "slide_type": "subslide"
    }
   },
   "source": [
    "Saisie d'une chaîne de caractères "
   ]
  },
  {
   "cell_type": "code",
   "execution_count": null,
   "metadata": {
    "slideshow": {
     "slide_type": "fragment"
    }
   },
   "outputs": [],
   "source": [
    "nom = input (\"Quel est votre nom ?\")"
   ]
  },
  {
   "cell_type": "markdown",
   "metadata": {
    "slideshow": {
     "slide_type": "fragment"
    }
   },
   "source": [
    "La variable *nom* prend la valeur de votre nom de famille"
   ]
  },
  {
   "cell_type": "markdown",
   "metadata": {
    "slideshow": {
     "slide_type": "slide"
    }
   },
   "source": [
    "L'autre type de variable sont les nombres réels"
   ]
  },
  {
   "cell_type": "code",
   "execution_count": null,
   "metadata": {
    "slideshow": {
     "slide_type": "-"
    }
   },
   "outputs": [],
   "source": [
    "Nombre=input(\"Entrez un nombre\")\n",
    "n=float(Nombre)\n",
    "print(\"Le carré de\",n, \"est,\",n*n)"
   ]
  },
  {
   "cell_type": "markdown",
   "metadata": {
    "slideshow": {
     "slide_type": "fragment"
    }
   },
   "source": [
    "**Question** : Expliquer la dernière ligne de cette cellule <br>\n",
    "\n",
    "**réponse** : "
   ]
  },
  {
   "cell_type": "markdown",
   "metadata": {
    "slideshow": {
     "slide_type": "subslide"
    }
   },
   "source": [
    "**B.2)** Les opérations mathémariques de base sont :\n",
    "        + addition\n",
    "        - soustraction\n",
    "        * multiplication\n",
    "        / division\n",
    "        ** puissance\n",
    "        // division entière\n",
    "        % reste de la division\n"
   ]
  },
  {
   "cell_type": "markdown",
   "metadata": {
    "slideshow": {
     "slide_type": "slide"
    }
   },
   "source": [
    "**Synthèse** : Ecrire un programme qui permet de calculer l'équation **a +2xc**  \n",
    "La saisie des valeurs de a et c se fait au clavier et résultat apparaît sous la forme :\n",
    "* Le résultat de a + 2xc vaut\n",
    "\n",
    "Compléter la cellule suivante : "
   ]
  },
  {
   "cell_type": "code",
   "execution_count": null,
   "metadata": {},
   "outputs": [],
   "source": [
    "# compléter  ici le code qui permet de calculer l'équation : "
   ]
  },
  {
   "cell_type": "markdown",
   "metadata": {
    "slideshow": {
     "slide_type": "-"
    }
   },
   "source": [
    "## C/ Les tests et boucles"
   ]
  },
  {
   "cell_type": "markdown",
   "metadata": {
    "slideshow": {
     "slide_type": "-"
    }
   },
   "source": [
    "<u><b>C.1/</b>La boucle <b>for ... in</b></u>"
   ]
  },
  {
   "cell_type": "markdown",
   "metadata": {
    "slideshow": {
     "slide_type": "subslide"
    }
   },
   "source": [
    "Cette boucle permet de répéter une ou des instructions identiques plusieurs fois afin d'alléger le nombre de lignes d'un programme\n",
    "\n",
    "\n",
    "Exécutez ces deux cellules : "
   ]
  },
  {
   "cell_type": "code",
   "execution_count": null,
   "metadata": {},
   "outputs": [],
   "source": [
    "for i in range(4):\n",
    "    print(i)"
   ]
  },
  {
   "cell_type": "code",
   "execution_count": null,
   "metadata": {},
   "outputs": [],
   "source": [
    "for i in range(4):\n",
    "    print(i, end =\"\")"
   ]
  },
  {
   "cell_type": "markdown",
   "metadata": {
    "slideshow": {
     "slide_type": "fragment"
    }
   },
   "source": [
    "**Question** : Quelle est la différence des résultats obtenus ? \n",
    "\n",
    "**Réponse** : "
   ]
  },
  {
   "cell_type": "markdown",
   "metadata": {
    "slideshow": {
     "slide_type": "slide"
    }
   },
   "source": [
    "<u><b>C.1/</b>Le test conditionnel  <b>if .....else</b></u>"
   ]
  },
  {
   "cell_type": "markdown",
   "metadata": {
    "slideshow": {
     "slide_type": "subslide"
    }
   },
   "source": [
    "Le test **if   else** permet d'exécuter une instruction selon une condition.\n",
    "\n",
    "Exécutez la cellule suivante plusieurs fois afin de visualiser le résultat."
   ]
  },
  {
   "cell_type": "code",
   "execution_count": null,
   "metadata": {
    "slideshow": {
     "slide_type": "subslide"
    }
   },
   "outputs": [],
   "source": [
    "Nombre=input(\"Entrez un nombre\")\n",
    "n=float(Nombre)\n",
    "if (n>=3):\n",
    "    print(\"ce nombre est supérieur à 3\")\n",
    "else:\n",
    "    print(\"ce nombre est inférieur à 3\")\n",
    "print(\"fin du test\")"
   ]
  },
  {
   "cell_type": "markdown",
   "metadata": {
    "slideshow": {
     "slide_type": "subslide"
    }
   },
   "source": [
    "**les principaux opérateurs de test** sont : \n",
    "\n",
    "   si N est égal à zéro      --> if (N==0): <br>\n",
    "   si N est positif   --> if (N>0):<br>\n",
    "   si N est supérieur ou égal à 3   --> if (N>=3):<br>\n",
    "   si N est différent de 3   --> if (N!=3):<br>\n",
    "   si N est est compris strictement entre 2 et 12 --> if (N>2) and (N<12):"
   ]
  },
  {
   "cell_type": "markdown",
   "metadata": {
    "slideshow": {
     "slide_type": "subslide"
    }
   },
   "source": [
    "**Synthèse** : Modifier la cellule précédente afin de résoudre le problème qui apparaît si on entre la valeur 3.\n",
    "\n",
    "Pour cela, on utilise l'instruction **elif** qui correspond à **Sinon si**"
   ]
  },
  {
   "cell_type": "code",
   "execution_count": null,
   "metadata": {},
   "outputs": [],
   "source": [
    "# compléter  ici le code qui permet le test complet : "
   ]
  },
  {
   "cell_type": "markdown",
   "metadata": {
    "slideshow": {
     "slide_type": "slide"
    }
   },
   "source": [
    "<u><b>C.1/</b>La boucle <b>while</b></u>"
   ]
  },
  {
   "cell_type": "markdown",
   "metadata": {
    "slideshow": {
     "slide_type": "subslide"
    }
   },
   "source": [
    "Cette boucle permet de répéter un groupe d'instruction **tant que** la condition testée reste vraie.\n",
    "\n",
    "Exécutez la cellule suivante"
   ]
  },
  {
   "cell_type": "code",
   "execution_count": null,
   "metadata": {
    "slideshow": {
     "slide_type": "fragment"
    }
   },
   "outputs": [],
   "source": [
    "k = 0\n",
    "while k<12:\n",
    "    print(\"voici ma série de nombres :\" ,k)\n",
    "    k=k+1\n",
    "print(\"fin de ma série\")"
   ]
  },
  {
   "cell_type": "markdown",
   "metadata": {
    "slideshow": {
     "slide_type": "slide"
    }
   },
   "source": [
    "## D/ Les listes et chaînes de caractères"
   ]
  },
  {
   "cell_type": "markdown",
   "metadata": {},
   "source": [
    "Une **liste** est un ensemble de valeurs (nombres ou caractères) regroupées dans une seule variable qui s'apparente un tableau dont les cases sont numérotées de 0 à n.\n"
   ]
  },
  {
   "cell_type": "markdown",
   "metadata": {
    "slideshow": {
     "slide_type": "subslide"
    }
   },
   "source": [
    "Exécutez la cellule suivante :"
   ]
  },
  {
   "cell_type": "code",
   "execution_count": null,
   "metadata": {
    "slideshow": {
     "slide_type": "-"
    }
   },
   "outputs": [],
   "source": [
    "%%tutor\n",
    "liste = [\"Albert\",2004,\"est né le \", \"à Lorient\" ,\"/\",3,9]\n"
   ]
  },
  {
   "cell_type": "code",
   "execution_count": null,
   "metadata": {},
   "outputs": [],
   "source": [
    "%%tutor\n",
    "liste = [\"Albert\",2004,\"est né le \", \"à Lorient\" ,\"/\",3,9]\n",
    "print(liste[0])\n",
    "print(liste[0], liste[3], liste[1])"
   ]
  },
  {
   "cell_type": "code",
   "execution_count": null,
   "metadata": {},
   "outputs": [],
   "source": [
    "%%tutor\n",
    "liste = [\"Albert\",2004,\"est né le \", \"à Lorient\" ,\"/\",3,9]\n",
    "print(liste[0])\n",
    "print(liste[0],\"\\n\",liste[3],\"\\n\", liste[1])"
   ]
  },
  {
   "cell_type": "markdown",
   "metadata": {},
   "source": [
    "**Question** : Quelle différence observez-vous dans le résultat d'exécution de ces deux cellules ?"
   ]
  },
  {
   "cell_type": "markdown",
   "metadata": {},
   "source": [
    "**Réponse** : "
   ]
  },
  {
   "cell_type": "code",
   "execution_count": null,
   "metadata": {},
   "outputs": [],
   "source": [
    "%%tutor\n",
    "liste = [\"Albert\",2004,\"est né le \", \"à Lorient\" ,\"/\",3,9]\n",
    "liste[0] = \"Albertine\"\n",
    "print(liste[0], liste[3], liste[1])"
   ]
  },
  {
   "cell_type": "markdown",
   "metadata": {},
   "source": [
    "**synthèse** : Ecrire un programme qui permet d'écrire la phrase *David est né à Lorient le 3/9/2009 à Lorient*"
   ]
  },
  {
   "cell_type": "code",
   "execution_count": null,
   "metadata": {},
   "outputs": [],
   "source": [
    "# compléter  ici le code qui permet de visualiser la phrase complète: "
   ]
  },
  {
   "cell_type": "markdown",
   "metadata": {},
   "source": [
    "<u>Voici quelques instructions spécifiques aux listes :</u> <br>\n",
    "       liste.append(\"Morbihan\")  --> rajoute le mot Morbihan en **fin** de liste (append = rajouter en anglais<br>\n",
    "       liste.remove(\"Morbihan\")  --> enlève le mot Morbihan de la liste<br>\n",
    "       print(liste.index(2004)   --> donne la position de la donnée 2004 dans la liste (ici 1)<br>"
   ]
  },
  {
   "cell_type": "markdown",
   "metadata": {
    "slideshow": {
     "slide_type": "slide"
    }
   },
   "source": [
    "## SYNTHESE DU TP : 2 EXERCICES"
   ]
  },
  {
   "cell_type": "markdown",
   "metadata": {
    "slideshow": {
     "slide_type": "subslide"
    }
   },
   "source": [
    "#### Exercice  1  - Le juste prix\n",
    "* Compléter le programme ci-dessous afin de :\n",
    "    * génèrer un nombre aléatoire entre 1 et 500 ( le juste prix)\n",
    "    * demander à l'utilisateur d'entrer un nombre entre 1 et 500\n",
    "    * comparer ce prix au nombre aléatoire\n",
    "    * tant que le juste prix n'est pas trouvé \n",
    "        * indiquer (affiche) si le prix est trop élevé, trop faible \n",
    "        * demander  à l'utilisateur d'entrer un nombre entre 1 et 500\n",
    "    * fin tant que \n",
    "    * indiquer (affiche) que le juste prix est trouvé\n",
    "    * afficher le nombre d'essais"
   ]
  },
  {
   "cell_type": "code",
   "execution_count": null,
   "metadata": {
    "slideshow": {
     "slide_type": "fragment"
    }
   },
   "outputs": [],
   "source": [
    "# compléter  ici le code de l'exercice du juste prix \n",
    "# Nous allons utiliser une fonction qui permet de récupérer un nombre aléatoire. La notion de fonction sera vue dans un autre TP\n",
    "from random import randint # on importe la fonction randint (random integer)\n",
    "\n",
    "\n",
    "prix = randint(1,500) # on stocke dans une variable prix aleaotoire un nombre entier aléatoire entre 1 et 500\n",
    "print(prix)"
   ]
  },
  {
   "cell_type": "markdown",
   "metadata": {
    "slideshow": {
     "slide_type": "subslide"
    }
   },
   "source": [
    "### Exercice 2 - Département de médecine : contrôle d'une épidémie\n",
    "\n",
    "\n",
    "Afin de pouvoir mieux combattre les différentes épidémies, parfois très graves, qui se développent régulièrement dans la région, le département de médecine de l'université a lancé une grande étude. En particulier, les chercheurs s'intéressent à la vitesse de propagation d'une épidémie et donc à la vitesse à laquelle des mesures sanitaires doivent êtres mises en place.\n",
    "\n",
    "<u>Ce que doit faire votre programme :</u>\n",
    "\n",
    "Votre programme doit d'abord lire un entier, la population totale de la ville. Sachant qu'une personne était malade au jour 1 et que chaque malade contamine deux nouvelles personnes le jour suivant (et chacun des jours qui suivent), vous devez calculer à partir de quel jour toute la population de la ville sera malade.\n",
    "\n",
    "<u>Exemples</u>\n",
    "* Exemple 1\n",
    "    * entrée : 3\n",
    "    * sortie : 2\n",
    "\n",
    "* Exemple 2\n",
    "\n",
    "   * entrée :10\n",
    "   * sortie :4\n",
    "\n",
    "<u>Commentaires </u>\n",
    "\n",
    "On a 1 malade le premier jour, donc 2 nouveaux malades le second jour, soit un total de 3 malades. On a donc 6 nouveaux malades au troisième jour, soit un total de 9 malades. On a donc 18 nouveaux malades au quatrième jour, soit…\n"
   ]
  },
  {
   "cell_type": "code",
   "execution_count": null,
   "metadata": {},
   "outputs": [],
   "source": [
    "# completer  ici le code de l'exercice contrôle d'une épidémie"
   ]
  },
  {
   "cell_type": "markdown",
   "metadata": {},
   "source": [
    "## Pour conserver une trace de votre travail, il faut imprimer le notebook dans un fichier au format PDF puis transférer ce PDF sur votre drive.\n"
   ]
  }
 ],
 "metadata": {
  "celltoolbar": "Visualize",
  "kernelspec": {
   "display_name": "Python 3",
   "language": "python",
   "name": "python3"
  },
  "language_info": {
   "codemirror_mode": {
    "name": "ipython",
    "version": 3
   },
   "file_extension": ".py",
   "mimetype": "text/x-python",
   "name": "python",
   "nbconvert_exporter": "python",
   "pygments_lexer": "ipython3",
   "version": "3.7.3"
  }
 },
 "nbformat": 4,
 "nbformat_minor": 1
}
