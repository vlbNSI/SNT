{
 "cells": [
  {
   "cell_type": "markdown",
   "metadata": {},
   "source": [
    "## TP Folium suite"
   ]
  },
  {
   "cell_type": "markdown",
   "metadata": {},
   "source": [
    "## ème partie :  Lecture de fichier de données et affichage sur une carte via folium"
   ]
  },
  {
   "cell_type": "markdown",
   "metadata": {},
   "source": [
    "### Création de votre propre carte via un tableur\n",
    "\n",
    "1. Ouvrez un tableur quelconque et dans la première ligne, colonne par colonne, entrez les valeurs suivantes :\n",
    "\n",
    "Latitude,  Longitude,   Description\n",
    "\n",
    "\n",
    "\n",
    "2. Sauvegardez ce fichier au format .csv en mettant comme séparateur la virgule, et en le nommant par exemp\n",
    "\n",
    "\n",
    "\n",
    "3. Avec par exemple de sites comme https://www.gps-coordinates.net/ qui proposent une carte qui, en cliquant sur un point de la carte, nous propose les coordonnées GPS précises de ce lieu, remplissez les différentes colonnes en mettant la description et les coordonnées GPS de divers lieux. \n",
    "\n",
    "\n",
    "\n",
    "4. Sauvegardez votre fichier, fermez le tableur. \n",
    "\n",
    "\n",
    "5. En faisant un clic-droit sur votre fichier csv, ouvrez-le avec un simple éditeur de texte. Qu'observe-t-on ? \n"
   ]
  },
  {
   "cell_type": "markdown",
   "metadata": {},
   "source": []
  },
  {
   "cell_type": "markdown",
   "metadata": {},
   "source": [
    "### Création de votre propre carte directement via Python ! \n",
    "\n",
    "On va commencer par créer un tableau qui va contenir les informations (longitude, latitude et description du lieu). \n",
    "\n",
    "1. Regardez l'algorithme suivant, en lisant les commentaires, et rajoutez quelques lieux (maison, piscine, ...)\n",
    "\n",
    "On pourra s'aider de sites comme https://www.gps-coordinates.net/ qui proposent une carte qui, en cliquant sur un point de la carte, nous propose les coordonnées GPS précises de ce lieu. "
   ]
  },
  {
   "cell_type": "code",
   "execution_count": 1,
   "metadata": {},
   "outputs": [],
   "source": [
    "import pandas as pd   #Pandas est une librairie qui permet de créer des tableaux de données\n",
    "\n",
    "# Création d'un tableau vide, ou plutôt une ligne vide, la ligne 0, avec 3 colonnes : \n",
    "donnees=pd.DataFrame(index=[0],columns={'Longitude','Latitude','Description'})  \n",
    "\n",
    "#Dans la première ligne, numéro 0, on va remplir les cases par des données\n",
    "donnees.at[donnees.index[0],'Latitude']=47.750908\n",
    "donnees.at[donnees.index[0],'Longitude']=-3.392328\n",
    "donnees.at[donnees.index[0],'Description']=\"Vous êtes ici ! \" \n",
    "\n",
    "#On rajoute une ligne en y accollant (on concatène) une nouvelle ligne\n",
    "donnees = pd.concat([donnees,pd.DataFrame(index=[1],columns={'Longitude','Latitude','Description'})],ignore_index=True)\n",
    "\n",
    "#Que l'on remplit par des données\n",
    "donnees.at[donnees.index[1],'Latitude']=47.750463\n",
    "donnees.at[donnees.index[1],'Longitude']=-3.392504\n",
    "donnees.at[donnees.index[1],'Description']=\"CDI\" \n",
    "\n",
    "#On peut ainsi créer notre propre tableau avec autant de lignes que l'on souhaite\n",
    "\n",
    "#On sauvegarde le tableau dans un fichier csv pour pouvoir l'envoyer aux amis par exemple\n",
    "donnees.to_csv(r'monfichier2.csv',index=True)\n"
   ]
  },
  {
   "cell_type": "markdown",
   "metadata": {},
   "source": [
    "2. Que signifie csv ? Où est le fichier monfichier2.csv ? "
   ]
  },
  {
   "cell_type": "markdown",
   "metadata": {},
   "source": []
  },
  {
   "cell_type": "markdown",
   "metadata": {},
   "source": [
    "On va maintenant afficher sur la carte les lieux que vous avez signalés : "
   ]
  },
  {
   "cell_type": "code",
   "execution_count": 3,
   "metadata": {},
   "outputs": [],
   "source": [
    "import folium\n",
    "\n",
    "#On créé une carte, ici centrée sur le lycée\n",
    "c= folium.Map(location=[47.7512,-3.3931],zoom_start=20)\n",
    "\n",
    "\n",
    "for i in range(0,donnees.shape[0]): # à chaque ligne du tableau, on lit la Longitude, Latittude et Description, que l'on place aux bons endroits du marker.\n",
    "    folium.Marker([donnees.at[donnees.index[i],'Latitude'],donnees.at[donnees.index[i],'Longitude']],popup=donnees.at[donnees.index[i],'Description']).add_to(c)\n",
    "\n",
    "c.save('maCarte.html')"
   ]
  },
  {
   "cell_type": "code",
   "execution_count": 4,
   "metadata": {},
   "outputs": [],
   "source": [
    "del donnees  # si on ne supprime pas le tableau, on occupe inutilement un tableau dans la RAM de votre \n",
    "            #ordinateur, ce qui pourrait le ralentir si le tableau est immense"
   ]
  },
  {
   "cell_type": "markdown",
   "metadata": {},
   "source": [
    "3. Il est possible aussi de rajouter plus facilement des lieux. \n",
    "\n",
    "a) Pour cela, allez dans le répertoire où se situe le fichier monfichier2.csv, par un clic-droit, renommez-le en monfichier3.csv afin de sauvegarder ce que vous avez fait dans la question 1.  (Si vous ré-exécutez l'algo précédent alors que vous avez modifié le fichier monfichier2.csv autre part, alors ce fichier sera écrasé et remplacé par le fichier monfichier2.csv de l'algorithme)\n",
    "\n",
    "b) Ouvrez ce fichier monfichier2.csv avec un tableur comme LibreOffice, puis rajoutez des lieux directement dans le tableau. N'oubliez pas de sauvegarder votre fichier en gardant toujours le format csv ! \n",
    "\n",
    "\n",
    "\n",
    "4. Il faut maintenant que Python lise les détails de ce fichier, on va donc réutiliser la bibliothèque Pandas qui va prendre toutes les données du tableau du csv, et en faire un tableau identique sous Python : "
   ]
  },
  {
   "cell_type": "code",
   "execution_count": null,
   "metadata": {},
   "outputs": [],
   "source": [
    "import folium #pas obligé de le remettre si on continue l'algorithme précédent, mais bien si vous recommencez \n",
    "                # de zero avec seulement un fichier csv\n",
    "import pandas as pd  # idem \n",
    "\n",
    "data =pd.read_csv(r'monfichier3.csv')\n",
    "\n",
    "#On créé une carte, ici centrée sur le lycée\n",
    "c= folium.Map(location=[47.7512,-3.3931],zoom_start=20)\n",
    "\n",
    "\n",
    "for i in range(0,data.shape[0]): # à chaque ligne du tableau, on lit la Longitude, Latittude et Description, que l'on place aux bons endroits du marker.\n",
    "    folium.Marker([data.at[data.index[i],'Longitude'],data.at[data.index[i],'Latitude']],popup=data.at[data.index[i],'Description']).add_to(c)\n",
    "\n",
    "c.save('maCarte.html')"
   ]
  },
  {
   "cell_type": "markdown",
   "metadata": {},
   "source": [
    "### Exercice : positionnement des radars de France "
   ]
  },
  {
   "cell_type": "markdown",
   "metadata": {},
   "source": [
    "Après avoir téléchargé dans le bon dossier le fichier des radars au format csv https://www.data.gouv.fr/fr/datasets/radars-automatiques/ , créez une carte qui recense les radars (en 2018) sur le morbihan seulement ! \n",
    "\n",
    "On pourra ouvrir le fichier cvs dans LibreOffice et trier les départements en s'aidant de https://help.libreoffice.org/Common/Sort_Ascending/fr  "
   ]
  },
  {
   "cell_type": "code",
   "execution_count": null,
   "metadata": {},
   "outputs": [],
   "source": []
  }
 ],
 "metadata": {
  "kernelspec": {
   "display_name": "Python 3",
   "language": "python",
   "name": "python3"
  },
  "language_info": {
   "codemirror_mode": {
    "name": "ipython",
    "version": 3
   },
   "file_extension": ".py",
   "mimetype": "text/x-python",
   "name": "python",
   "nbconvert_exporter": "python",
   "pygments_lexer": "ipython3",
   "version": "3.7.4"
  },
  "latex_envs": {
   "LaTeX_envs_menu_present": true,
   "autoclose": false,
   "autocomplete": true,
   "bibliofile": "biblio.bib",
   "cite_by": "apalike",
   "current_citInitial": 1,
   "eqLabelWithNumbers": true,
   "eqNumInitial": 1,
   "hotkeys": {
    "equation": "Ctrl-E",
    "itemize": "Ctrl-I"
   },
   "labels_anchors": false,
   "latex_user_defs": false,
   "report_style_numbering": false,
   "user_envs_cfg": false
  },
  "toc": {
   "base_numbering": 1,
   "nav_menu": {},
   "number_sections": true,
   "sideBar": true,
   "skip_h1_title": false,
   "title_cell": "Table of Contents",
   "title_sidebar": "Contents",
   "toc_cell": false,
   "toc_position": {},
   "toc_section_display": true,
   "toc_window_display": false
  }
 },
 "nbformat": 4,
 "nbformat_minor": 2
}
