{
 "cells": [
  {
   "cell_type": "markdown",
   "metadata": {},
   "source": [
    "<table>   <tr>\n",
    "    <td>Sciences Numériques et Technologie </td>\n",
    "    <td><img src=\"images/logo.jpg\"      alt=\"St Joseph-La Salle LORIENT\" width=\"50\"      height=\"48\"></td>\n",
    "  </tr>   </table>\n",
    "  \n",
    "  # Programmation du PageRank en python\n",
    "  Cette activité permet d'expérimenter la mise en oeuvre de l'algorithme  du **PageRank** dans une version simplifiée. Les six pages sont représentées chacune par leur nom de \"A\" à \"F\".\n",
    "  \n",
    "  Les connexions entre les pages sont définies dans le document suivant. Les numéros correspondent aux chemins suivis en fonction du lancé du dé.\n",
    "  <img src=\"images/pages2.PNG\"      alt=\"St Joseph-La Salle LORIENT\" width=\"400\"      height=\"48\">\n",
    "  \n",
    "  "
   ]
  },
  {
   "cell_type": "markdown",
   "metadata": {},
   "source": [
    "#### Le lancé du **dé** ou comment choisir une page au hasard\n",
    "Les noms des pages sont mémorisés dans une liste : <code> pages = [\"A\",\"B\",\"C\"] </code>\n",
    "Le module <code>random<code> permet de réaliser un choix aléatoire soit \n",
    "* sur une liste  avec la fonction <code>choice(nom_de_la_liste) </code>\n",
    "* sur un intervalle d'entiers avec la fonction <code>randint(valeur_min, valeur_max)</code>\n",
    "\n",
    "Pour comprendre comment utiliser ces deux fonctions, nous allons faire un tirage de 30 valeurs aléatoires. Tester les deux programmes.\n"
   ]
  },
  {
   "cell_type": "code",
   "execution_count": null,
   "metadata": {},
   "outputs": [],
   "source": [
    "#une page au hasard\n",
    "from random import *\n",
    "pages = [\"A\",\"B\",\"C\"]\n",
    "for i in range (30):\n",
    "    p = choice(pages)\n",
    "    print(p, end=\" \")\n",
    "\n"
   ]
  },
  {
   "cell_type": "code",
   "execution_count": null,
   "metadata": {},
   "outputs": [],
   "source": [
    "#un nombre au hasard\n",
    "from random import *\n",
    "for i in range (30):\n",
    "    n = randint(-5,5)\n",
    "    print(n, end=\" \")"
   ]
  },
  {
   "cell_type": "markdown",
   "metadata": {},
   "source": [
    "Apporter les modification nécessaire afin de : \n",
    "* réaliser **50** tirages\n",
    "* ajouter dans la liste des pages, les **noms des pages manquants**\n",
    "* effectuer un tirage aléatoire d'un **nombre compris entre 1 et 4**"
   ]
  },
  {
   "cell_type": "code",
   "execution_count": null,
   "metadata": {},
   "outputs": [],
   "source": [
    "#une page au hasard entre A et F\n",
    "from random import *\n",
    "pages = [\"A\",\"B\",\"C\", .............]\n",
    "for i in range (....):\n",
    "    p = choice(pages)\n",
    "    print(p, end=\" \")\n",
    "#un nombre au hasard entre 1 et 4\n",
    "from random import *\n",
    "for i in range (......):\n",
    "    n = randint(.........)\n",
    "    print(n, end=\" \")"
   ]
  },
  {
   "cell_type": "markdown",
   "metadata": {},
   "source": [
    "#### Compter le nombre de passages\n",
    "\n",
    "A chaque fois qu'une page est visitée, le passage doit être comptabilisé.\n",
    "Nous allons donc associer à chaque nom de page, une valeur. Au départ, on considère qu'aucune page n'a été visitée. \n",
    "<code> visites = {\"A\":0, \"B\":0, \"C\":0,\"D\":0,\"E\":0,\"F\":0} </code>\n",
    "\n",
    "Pour ajouter une visite à la page \"A\", on peut utiliser l'instruction suivante : \n",
    "<code> visites[\"A\"]=visites[\"A\"]+1 </code> ou <code> visites[\"A\"]+=1 </code>\n",
    "\n",
    "Tester et observer le fonctionnement du programme suivant : \n"
   ]
  },
  {
   "cell_type": "code",
   "execution_count": null,
   "metadata": {},
   "outputs": [],
   "source": [
    "pages = [\"A\",\"B\",\"C\", \"D\", \"E\",\"F\"]\n",
    "visites = {\"A\":0, \"B\":0, \"C\":0,\"D\":0,\"E\":0,\"F\":0}\n",
    "print(visites)\n",
    "visites[\"A\"]=visites[\"A\"]+1\n",
    "print(visites)\n",
    "visites[\"A\"]+=1\n",
    "print(visites)"
   ]
  },
  {
   "cell_type": "markdown",
   "metadata": {},
   "source": [
    "Le code suivant correspond au :\n",
    "* tirage au sort de la première page\n",
    "* comptabilisation de la visite\n",
    "* chemin à suivre si la page visitée est  \"A\"\n",
    "* chemin à suivre si la page visitée est  \"E\"\n",
    "Compléter ce programme en fonction de connexions prédéfinies dans le graphe du début du document ou page 69 de votre manuel.\n"
   ]
  },
  {
   "cell_type": "code",
   "execution_count": null,
   "metadata": {},
   "outputs": [],
   "source": [
    "visites = {\"A\":0, \"B\":0, \"C\":0,\"D\":0,\"E\":0,\"F\":0}\n",
    "p = choice(pages)\n",
    "for i in range(50):\n",
    "    print(p, end=\" \")\n",
    "    visites[p]+=1\n",
    "    if p==\"A\":\n",
    "        p=\"E\"\n",
    "    elif p==\"E\":\n",
    "        chemin = randint(1,4)\n",
    "        if chemin==1: p=\"B\"\n",
    "        elif chemin==2: p=\"C\"\n",
    "        elif chemin==3: p=\"D\"\n",
    "        else: p=\"F\"\n",
    "   # a compléter pour les autres cas\n",
    "    \n",
    "       \n",
    "    \n",
    "print(\"\\n bilan des visites \",visites)\n",
    "\n",
    "    \n",
    "    \n",
    "    "
   ]
  },
  {
   "cell_type": "markdown",
   "metadata": {},
   "source": [
    "Que faut-il faire pour obtenir directement les pourcentages?"
   ]
  },
  {
   "cell_type": "code",
   "execution_count": null,
   "metadata": {},
   "outputs": [],
   "source": []
  }
 ],
 "metadata": {
  "kernelspec": {
   "display_name": "Python 3",
   "language": "python",
   "name": "python3"
  },
  "language_info": {
   "codemirror_mode": {
    "name": "ipython",
    "version": 3
   },
   "file_extension": ".py",
   "mimetype": "text/x-python",
   "name": "python",
   "nbconvert_exporter": "python",
   "pygments_lexer": "ipython3",
   "version": "3.7.3"
  }
 },
 "nbformat": 4,
 "nbformat_minor": 2
}
